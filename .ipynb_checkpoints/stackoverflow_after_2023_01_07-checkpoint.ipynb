{
 "cells": [
  {
   "cell_type": "code",
   "execution_count": 2,
   "id": "1e3c64db",
   "metadata": {},
   "outputs": [
    {
     "name": "stdout",
     "output_type": "stream",
     "text": [
      "['Ali' 'Eraj' 'Yasir' 'Maryam']\n",
      "['ali' 'eraj' 'maryam' 'yasir']\n",
      "(4, 4)\n",
      "['Male' 'Female' 'Male' 'Female']\n",
      "['female' 'male']\n",
      "(4, 2)\n",
      "['You are naughty' 'HAHA superb I GOT GOLD MEDAL' 'Yasir is dirty boy'\n",
      " 'Maryam is a good UI/UX Designer']\n",
      "['are' 'boy' 'designer' 'dirty' 'gold' 'good' 'got' 'haha' 'is' 'maryam'\n",
      " 'medal' 'naughty' 'superb' 'ui' 'ux' 'yasir' 'you']\n",
      "(4, 17)\n",
      "['This is one document' 'This is second document'\n",
      " 'This is a nice document'\n",
      " 'This is a beautiful document and have great experience']\n",
      "['and' 'beautiful' 'document' 'experience' 'great' 'have' 'is' 'nice'\n",
      " 'one' 'second' 'this']\n",
      "(4, 11)\n"
     ]
    }
   ],
   "source": [
    "from sklearn.feature_extraction.text import TfidfVectorizer\n",
    "import pandas as pd\n",
    "df = pd.read_excel('./TfidfVectorizer_sklearn.xlsx')\n",
    "for i in df.columns: # loop through every column\n",
    "    tfidf_vectorizer = TfidfVectorizer()\n",
    "    print(df.loc[:, i].values)\n",
    "    X = tfidf_vectorizer.fit_transform(df.loc[:, i].values) # select column all values\n",
    "    print(tfidf_vectorizer.get_feature_names_out())\n",
    "    print(X.shape)"
   ]
  },
  {
   "cell_type": "code",
   "execution_count": 3,
   "id": "38121725",
   "metadata": {},
   "outputs": [],
   "source": [
    "import pandas as pd\n",
    "import re\n",
    "\n",
    "df = pd.read_excel('./one_col_into_multi_cols.xlsx')\n",
    "df['data_col1'] = df['data'].apply(\n",
    "    lambda x: '(' + re.findall('(.*)\\.\\.', x)[0] + ')')\n",
    "df['data_col2'] = df['data'].apply(\n",
    "    lambda x: '(' + re.findall('\\.\\.(.*):', x)[0].split(':')[0] + ')')\n",
    "df['data_col3'] = df['data'].apply(\n",
    "    lambda x: '(' + re.findall('\\.\\w+:(.*)', x)[0] + ')')\n",
    "df.to_excel(\"one_col_into_multi_cols_new.xlsx\",\n",
    "            sheet_name='Sheet_name_1',\n",
    "            index=False)"
   ]
  },
  {
   "cell_type": "code",
   "execution_count": 29,
   "id": "1f4b5dd7",
   "metadata": {},
   "outputs": [
    {
     "name": "stdout",
     "output_type": "stream",
     "text": [
      "\"tag\":\"房地产;住宅\" not found in the file\n",
      "\"tag\":\"教育培训;幼儿园\" found in the file\n",
      "\"tag\":\"房地产;内部楼栋\" found in the file\n",
      "\"tag\":\"交通设施;停车场\" found in the file\n",
      "\"tag\":\"购物;购物中心\" found in the file\n"
     ]
    }
   ],
   "source": [
    "import re\n",
    "extract_str = [\n",
    "    '\"tag\":\"房地产;住宅\"', '\"tag\":\"教育培训;幼儿园\"', '\"tag\":\"房地产;内部楼栋\"',\n",
    "    '\"tag\":\"交通设施;停车场\"', '\"tag\":\"购物;购物中心\"'\n",
    "]\n",
    "with open('./extract_specific_from_text.txt', 'r', encoding=\"utf8\") as f:\n",
    "    file_txt = f.read()\n",
    "    for i in extract_str:\n",
    "        tags = re.findall(i, file_txt)\n",
    "        if len(tags) > 0:\n",
    "            print(f'{list(set(tags))[0]} found in the file')\n",
    "        else:\n",
    "            print(f'{i} not found in the file')"
   ]
  },
  {
   "cell_type": "code",
   "execution_count": 47,
   "id": "2944c555",
   "metadata": {},
   "outputs": [
    {
     "name": "stdout",
     "output_type": "stream",
     "text": [
      "h1: Who is Gautam Adani and why is he controversial?\n",
      "em: The Indian entrepreneur has seen his wealth plummet after a research firm accused him of ‘brazen stock manipulation’.\n",
      "p1: Allegations of stock market manipulation and fraud have halved the net worth of Indian tycoon Gautam Adani, one of the wealthiest people in the world, in less than two weeks and wiped more than $110bn from his listed firms in India.\n",
      "p2: With investor confidence shaken, legislators have demanded an investigation into his businesses. Here’s a look at who Adani is, what concerns have been raised and what has happened since.\n",
      "p3: Who is Gautam Adani?\n",
      "p4: He is the founder and chairman of the Adani Group, one of the largest business conglomerates in India. A native of Gujarat — the same state where India’s Prime Minister Narendra Modi is from — Adani, 60, is a college dropout. He walked away from his father’s textile shop to set up a commodities trading business in 1988, his entry into the world of business.\n"
     ]
    }
   ],
   "source": [
    "from webdriver_manager.chrome import ChromeDriverManager\n",
    "from selenium import webdriver\n",
    "from selenium.webdriver.chrome.service import Service as ChromeService\n",
    "from selenium.webdriver.chrome.options import Options\n",
    "from selenium.webdriver.common.by import By\n",
    "options = Options()\n",
    "# options.add_argument('--disable-blink-features=AutomationControlled')\n",
    "service = ChromeService(executable_path=ChromeDriverManager().install())\n",
    "options.add_experimental_option('excludeSwitches', ['enable-logging']) # KINDLY ADD THIS OPTION\n",
    "driver = webdriver.Chrome(service=service, options=options)\n",
    "URL = ' https://www.aljazeera.com/economy/2023/2/6/who-is-gautam-adani-and-why-is-he-controversial'\n",
    "driver.get(URL)\n",
    "# Define your code here\n",
    "# //header[@class=\"article-header\"]/h1\n",
    "# //header[@class=\"article-header\"]//em\n",
    "# //main[@id=\"main-content-area\"]/div[2]/p[1]\n",
    "# //main[@id=\"main-content-area\"]/div[2]/p[2]\n",
    "# //main[@id=\"main-content-area\"]/div[2]/p[3]\n",
    "# //main[@id=\"main-content-area\"]/div[2]/p[4]\n",
    "h1_tag = driver.find_elements(By.XPATH, '//header[@class=\"article-header\"]/h1')[0]\n",
    "print(f'h1: {h1_tag.text}')\n",
    "em_tag = driver.find_elements(By.XPATH, '//header[@class=\"article-header\"]//em')[0]\n",
    "print(f'em: {em_tag.text}')\n",
    "for i in range(1, 5):\n",
    "    p_tag = driver.find_elements(By.XPATH, f'//main[@id=\"main-content-area\"]/div[2]/p[{i}]')[0]\n",
    "    print(f'p{i}: {p_tag.text}')\n",
    "driver.quit()"
   ]
  },
  {
   "cell_type": "code",
   "execution_count": 2,
   "id": "2354a041",
   "metadata": {},
   "outputs": [
    {
     "data": {
      "text/html": [
       "<div>\n",
       "<style scoped>\n",
       "    .dataframe tbody tr th:only-of-type {\n",
       "        vertical-align: middle;\n",
       "    }\n",
       "\n",
       "    .dataframe tbody tr th {\n",
       "        vertical-align: top;\n",
       "    }\n",
       "\n",
       "    .dataframe thead th {\n",
       "        text-align: right;\n",
       "    }\n",
       "</style>\n",
       "<table border=\"1\" class=\"dataframe\">\n",
       "  <thead>\n",
       "    <tr style=\"text-align: right;\">\n",
       "      <th></th>\n",
       "      <th>Family Medicine</th>\n",
       "    </tr>\n",
       "  </thead>\n",
       "  <tbody>\n",
       "    <tr>\n",
       "      <th>0</th>\n",
       "      <td>1</td>\n",
       "    </tr>\n",
       "    <tr>\n",
       "      <th>1</th>\n",
       "      <td>0</td>\n",
       "    </tr>\n",
       "  </tbody>\n",
       "</table>\n",
       "</div>"
      ],
      "text/plain": [
       "   Family Medicine\n",
       "0                1\n",
       "1                0"
      ]
     },
     "execution_count": 2,
     "metadata": {},
     "output_type": "execute_result"
    }
   ],
   "source": [
    "import pandas as pd\n",
    "df = pd.DataFrame(data=[\n",
    "    {\"doctor_id\": 1, \"doctor_name\": \"Sadia\", \"doctor_gender\": \"Female\", \"Dept_visited\": \"Family Medicine\"},\n",
    "    {\"doctor_id\": 2, \"doctor_name\": \"Saad\", \"doctor_gender\": \"Male\", \"dept_visited\": \"Psychiatry\"}\n",
    "])\n",
    "df\n",
    "inputs = df.drop('doctor_name',axis='columns')\n",
    "target = df.doctor_name    \n",
    "dummies = pd.get_dummies(inputs.Dept_visited)\n",
    "dummies.head(3)"
   ]
  },
  {
   "cell_type": "code",
   "execution_count": 9,
   "id": "9f5af61d",
   "metadata": {},
   "outputs": [
    {
     "name": "stdout",
     "output_type": "stream",
     "text": [
      "Enter the item: muffin\n",
      "Enter the item: muffin\n",
      "Enter the item: cupcake\n",
      "Enter the item: 0\n",
      "Today remaning muffins: 8 cupcakes: 9\n"
     ]
    }
   ],
   "source": [
    "muffins = 10\n",
    "cupcakes = 10\n",
    "a = input(\"Enter the item: \")\n",
    "while a != '0' or (muffins==0 and cupcakes==0):\n",
    "    if a == 'muffin':\n",
    "        if muffins>0:\n",
    "            muffins-=1\n",
    "        else:\n",
    "            print(\"Zero muffins.\")\n",
    "    if a == 'cupcake':\n",
    "        if cupcakes>0:\n",
    "            cupcakes-=1\n",
    "        else:\n",
    "            print(\"Zero cupcakes.\")\n",
    "#     print(\"muffins: %d cupcakes: %d\" %(muffins, cupcakes))\n",
    "    a = input(\"Enter the item: \")\n",
    "\n",
    "    if muffins==0 and cupcakes==0:\n",
    "        print(\"Out of stock\")\n",
    "        break\n",
    "print(\"Today remaning muffins: %d cupcakes: %d\" %(muffins, cupcakes))"
   ]
  },
  {
   "cell_type": "code",
   "execution_count": 3,
   "id": "5f98956b",
   "metadata": {},
   "outputs": [
    {
     "name": "stdout",
     "output_type": "stream",
     "text": [
      "              precision    recall  f1-score   support\n",
      "\n",
      "           0       0.95      0.85      0.90        66\n",
      "           1       0.91      0.97      0.94       105\n",
      "\n",
      "    accuracy                           0.92       171\n",
      "   macro avg       0.93      0.91      0.92       171\n",
      "weighted avg       0.93      0.92      0.92       171\n",
      "\n",
      "              precision    recall  f1-score   support\n",
      "\n",
      "    No class       1.00      0.00      0.00        66\n",
      "   Yes Class       0.61      1.00      0.76       105\n",
      "\n",
      "    accuracy                           0.61       171\n",
      "   macro avg       0.81      0.50      0.38       171\n",
      "weighted avg       0.76      0.61      0.47       171\n",
      "\n"
     ]
    }
   ],
   "source": [
    "import pandas as pd\n",
    "import numpy as np\n",
    "from sklearn import svm\n",
    "from sklearn.model_selection import train_test_split\n",
    "from sklearn.datasets import load_breast_cancer\n",
    "from sklearn.neural_network import MLPClassifier\n",
    "from sklearn.metrics import classification_report\n",
    "cancer = load_breast_cancer()\n",
    "df_feat = pd.DataFrame(cancer['data'],columns=cancer['feature_names'])\n",
    "df_target = pd.DataFrame(cancer['target'],columns=['Cancer'])\n",
    "np.ravel(df_target) # convert it into a 1-d array\n",
    "X_train, X_test, y_train, y_test = train_test_split(df_feat, np.ravel(df_target), test_size=0.3, random_state=101)\n",
    "SVM_classifier = svm.SVC(kernel=\"rbf\", probability = True, random_state=1)\n",
    "SVM_classifier.fit(X_train, y_train)\n",
    "SVM_y_pred = SVM_classifier.predict(X_test)\n",
    "print(classification_report(y_test, SVM_y_pred))\n",
    "MLP = MLPClassifier(random_state=1, learning_rate = \"constant\", learning_rate_init=0.3, momentum = 0.2 )\n",
    "MLP.fit(X_train, y_train)\n",
    "R_y_pred = MLP.predict(X_test)\n",
    "target_names = ['No class', 'Yes Class']\n",
    "print(classification_report(y_test, R_y_pred, target_names=target_names, zero_division=1))"
   ]
  },
  {
   "cell_type": "code",
   "execution_count": 39,
   "id": "49d44377",
   "metadata": {},
   "outputs": [
    {
     "data": {
      "text/html": [
       "<div>\n",
       "<style scoped>\n",
       "    .dataframe tbody tr th:only-of-type {\n",
       "        vertical-align: middle;\n",
       "    }\n",
       "\n",
       "    .dataframe tbody tr th {\n",
       "        vertical-align: top;\n",
       "    }\n",
       "\n",
       "    .dataframe thead th {\n",
       "        text-align: right;\n",
       "    }\n",
       "</style>\n",
       "<table border=\"1\" class=\"dataframe\">\n",
       "  <thead>\n",
       "    <tr style=\"text-align: right;\">\n",
       "      <th></th>\n",
       "      <th>text</th>\n",
       "      <th>terms</th>\n",
       "    </tr>\n",
       "  </thead>\n",
       "  <tbody>\n",
       "    <tr>\n",
       "      <th>0</th>\n",
       "      <td>my name is abc</td>\n",
       "      <td>[abc]</td>\n",
       "    </tr>\n",
       "    <tr>\n",
       "      <th>1</th>\n",
       "      <td>xyz is a fruit</td>\n",
       "      <td>[fruit]</td>\n",
       "    </tr>\n",
       "    <tr>\n",
       "      <th>2</th>\n",
       "      <td>abc likes per</td>\n",
       "      <td>[abc, likes per]</td>\n",
       "    </tr>\n",
       "  </tbody>\n",
       "</table>\n",
       "</div>"
      ],
      "text/plain": [
       "             text             terms\n",
       "0  my name is abc             [abc]\n",
       "1  xyz is a fruit           [fruit]\n",
       "2   abc likes per  [abc, likes per]"
      ]
     },
     "execution_count": 39,
     "metadata": {},
     "output_type": "execute_result"
    }
   ],
   "source": [
    "import pandas as pd\n",
    "df = pd.DataFrame(data={\n",
    "    \"text\": [\"my name is abc\", \"xyz is a fruit\", \"abc likes per\"]\n",
    "})\n",
    "lst = ['abc', 'fruit', 'likes per']\n",
    "df['terms'] = df['text'].apply(lambda x: [i for i in lst if i in x])\n",
    "df\n",
    "# L = ['abc', 'fruit', 'likes per']\n",
    "# pat = '|'.join(rf\"\\b{x}\\b\" for x in L)\n",
    "# print(pat)\n",
    "# df['text'].str.findall(pat)"
   ]
  },
  {
   "cell_type": "code",
   "execution_count": 74,
   "id": "e7617eaf",
   "metadata": {},
   "outputs": [
    {
     "name": "stdout",
     "output_type": "stream",
     "text": [
      "2003-08-09\n"
     ]
    },
    {
     "data": {
      "text/plain": [
       "2003"
      ]
     },
     "execution_count": 74,
     "metadata": {},
     "output_type": "execute_result"
    }
   ],
   "source": [
    "from faker import Faker\n",
    "import datetime\n",
    "fake = Faker()\n",
    "date = fake.date()\n",
    "datetime_object = datetime.datetime.strptime(date, '%Y-%m-%d')\n",
    "datetime_object.year"
   ]
  },
  {
   "cell_type": "code",
   "execution_count": 11,
   "id": "ec622b60",
   "metadata": {},
   "outputs": [
    {
     "name": "stdout",
     "output_type": "stream",
     "text": [
      "abcdefghijklmnopqrstuvwxyzABCDEFGHIJKLMNOPQRSTUVWXYZ\n",
      "0123456789\n"
     ]
    },
    {
     "data": {
      "text/plain": [
       "'KMVwIgSS8c'"
      ]
     },
     "execution_count": 11,
     "metadata": {},
     "output_type": "execute_result"
    }
   ],
   "source": [
    "from string import ascii_letters, digits\n",
    "print(ascii_letters)\n",
    "print(digits)\n",
    "import random\n",
    "''.join(random.choice(ascii_letters) if i == 0 else random.choice(ascii_letters + digits) for i in range(10))"
   ]
  },
  {
   "cell_type": "code",
   "execution_count": 33,
   "id": "2ecf023e",
   "metadata": {},
   "outputs": [],
   "source": [
    "from webdriver_manager.chrome import ChromeDriverManager\n",
    "from selenium import webdriver\n",
    "from selenium.webdriver.chrome.service import Service as ChromeService\n",
    "from selenium.webdriver.chrome.options import Options\n",
    "from selenium.webdriver.common.by import By\n",
    "options = Options()\n",
    "# options.add_argument('--disable-blink-features=AutomationControlled')\n",
    "service = ChromeService(executable_path=ChromeDriverManager().install())\n",
    "options.add_experimental_option('excludeSwitches', ['enable-logging']) # KINDLY ADD THIS OPTION\n",
    "driver = webdriver.Chrome(service=service, options=options)\n",
    "URL = 'https://finance.yahoo.com/quote/AAPL/analysis?p=AAPL&guccounter=1'\n",
    "driver.get(URL)\n",
    "revenue = driver.find_element(By.XPATH, '//div[@id=\"Col1-0-AnalystLeafPage-Proxy\"]/section/table[2]/tbody')\n",
    "print(revenue.text)\n",
    "driver.quit()"
   ]
  },
  {
   "cell_type": "code",
   "execution_count": 79,
   "id": "9b9308be",
   "metadata": {},
   "outputs": [],
   "source": [
    "import pandas as pd\n",
    "df = pd.read_excel('./keep_enter.xlsx')\n",
    "def replace_custom_func(x):\n",
    "    new_str = ''\n",
    "    if len(x) > 0:\n",
    "        for i in x.split('\\n'):\n",
    "            new_str += f'\"{i}\"&CHAR(10)&'\n",
    "        return \"=\" + new_str[:-10]\n",
    "    else:\n",
    "        return x\n",
    "df['Text'] = df['Text'].apply(lambda x: replace_custom_func(x))\n",
    "df.to_csv('keep_enter1.csv', sep='|', index=False)\n",
    "df = pd.read_csv('./keep_enter1.csv', sep='|')\n",
    "writer = pd.ExcelWriter('new_excel_replace12345.xlsx', engine='xlsxwriter')\n",
    "\n",
    "# # Convert the dataframe to an XlsxWriter Excel object.\n",
    "df.to_excel(writer, sheet_name='Sheet1', index=False)\n",
    "\n",
    "# # Get the xlsxwriter workbook and worksheet objects.\n",
    "workbook  = writer.book\n",
    "worksheet = writer.sheets['Sheet1']\n",
    "format = workbook.add_format({'text_wrap': True})\n",
    "worksheet.set_column('C:D', None, format)\n",
    "worksheet.write_formula(1, 2, df['Text'][0])\n",
    "# # Close the Pandas Excel writer and output the Excel file.\n",
    "writer.save()"
   ]
  },
  {
   "cell_type": "code",
   "execution_count": 12,
   "id": "e1d3bccc",
   "metadata": {},
   "outputs": [
    {
     "name": "stdout",
     "output_type": "stream",
     "text": [
      "{0: 2, 2: 5, 1: 4}\n"
     ]
    }
   ],
   "source": [
    "import pandas as pd\n",
    "from functools import reduce\n",
    "df = pd.DataFrame({'id': ['a', 'b', 'a', 'c', 'b', 'a'], 'date': ['d1', 'd1', 'd2', 'd2', 'd3', 'd3']})\n",
    "d = df.groupby('id').apply(lambda x: dict(zip(x.index[:2], x.index[1:])))\n",
    "d = reduce(lambda d1, d2: {**d1, **d2}, d) \n",
    "print(d)"
   ]
  },
  {
   "cell_type": "code",
   "execution_count": null,
   "id": "3a13fe53",
   "metadata": {},
   "outputs": [],
   "source": [
    "import findspark\n",
    "findspark.init()\n",
    "findspark.find()\n",
    "import pyspark\n",
    "from pyspark.sql import SparkSession\n",
    "from pyspark.sql.types import StructType,StructField, StringType, IntegerType, ArrayType\n",
    "\n",
    "spark = SparkSession \\\n",
    "    .builder \\\n",
    "    .appName(\"stackoverflow_issue\") \\\n",
    "    .getOrCreate()\n",
    "data = [\n",
    " ([\"James\",\"Jon\",\"Jane\"]),\n",
    " ([\"Miken\",\"Mik\",\"Mike\"]),\n",
    " ([\"John\",\"Johns\"])\n",
    "]\n",
    "schema = StructType([ \n",
    "    StructField(\"Name\",ArrayType(StringType()),True)\n",
    "  ])\n",
    "\n",
    "df = spark.createDataFrame(data=[(r,) for r in data],schema=schema)\n",
    "df.printSchema()\n",
    "df.show()"
   ]
  },
  {
   "cell_type": "code",
   "execution_count": 1,
   "id": "cc637751",
   "metadata": {},
   "outputs": [
    {
     "name": "stdout",
     "output_type": "stream",
     "text": [
      "[*********************100%***********************]  1 of 1 completed\n",
      "[*********************100%***********************]  1 of 1 completed\n",
      "                   Open         High          Low        Close    Adj Close  \\\n",
      "Date                                                                          \n",
      "2017-01-03  2251.570068  2263.879883  2245.129883  2257.830078  2257.830078   \n",
      "2017-01-04  2261.600098  2272.820068  2261.600098  2270.750000  2270.750000   \n",
      "2017-01-05  2268.179932  2271.500000  2260.449951  2269.000000  2269.000000   \n",
      "2017-01-06  2271.139893  2282.100098  2264.060059  2276.979980  2276.979980   \n",
      "2017-01-09  2273.590088  2275.489990  2268.899902  2268.899902  2268.899902   \n",
      "\n",
      "                Volume  \n",
      "Date                    \n",
      "2017-01-03  3773010000  \n",
      "2017-01-04  3768890000  \n",
      "2017-01-05  3785080000  \n",
      "2017-01-06  3342080000  \n",
      "2017-01-09  3219730000  \n",
      "=================================\n",
      "                 Open       High        Low      Close  Adj Close     Volume\n",
      "Date                                                                        \n",
      "2012-05-18  42.049999  45.000000  38.000000  38.230000  38.230000  573576400\n",
      "2012-05-21  36.529999  36.660000  33.000000  34.029999  34.029999  168192700\n",
      "2012-05-22  32.610001  33.590000  30.940001  31.000000  31.000000  101786600\n",
      "2012-05-23  31.370001  32.500000  31.360001  32.000000  32.000000   73600000\n",
      "2012-05-24  32.950001  33.209999  31.770000  33.029999  33.029999   50237200\n",
      "\n"
     ]
    }
   ],
   "source": [
    "import math\n",
    "import pandas as pd\n",
    "import numpy as np\n",
    "import matplotlib.pyplot as plt\n",
    "import pandas_datareader.data as web\n",
    "import datetime as dt\n",
    "\n",
    "import yfinance as yf\n",
    "\n",
    "yf.pdr_override() # add this \n",
    "\n",
    "df = yf.download(tickers=['^GSPC'], start=\"2017-01-01\", end=\"2017-04-30\")\n",
    "# change web.DataReader to web.get_data_yahoo\n",
    "\n",
    "# fb is meta \n",
    "data = web.DataReader('META', start = dt.datetime(2012, 1, 1), end = dt.datetime(2020, 1, 1))\n",
    "print(df.head(5))\n",
    "print(\"=================================\")\n",
    "print(data.head(5))\n",
    "print()"
   ]
  },
  {
   "cell_type": "code",
   "execution_count": 1,
   "id": "48b77bbd",
   "metadata": {},
   "outputs": [
    {
     "name": "stdout",
     "output_type": "stream",
     "text": [
      "91\n"
     ]
    }
   ],
   "source": [
    "import re\n",
    "with open('./sum_numbers.txt', 'r') as f:\n",
    "    # this is the line for sum all numbers in the file\n",
    "    print(sum([int(no) for no in re.findall('\\d+', f.read())])) "
   ]
  },
  {
   "cell_type": "code",
   "execution_count": 7,
   "id": "6bd66cf1",
   "metadata": {},
   "outputs": [
    {
     "data": {
      "text/html": [
       "<div>\n",
       "<style scoped>\n",
       "    .dataframe tbody tr th:only-of-type {\n",
       "        vertical-align: middle;\n",
       "    }\n",
       "\n",
       "    .dataframe tbody tr th {\n",
       "        vertical-align: top;\n",
       "    }\n",
       "\n",
       "    .dataframe thead th {\n",
       "        text-align: right;\n",
       "    }\n",
       "</style>\n",
       "<table border=\"1\" class=\"dataframe\">\n",
       "  <thead>\n",
       "    <tr style=\"text-align: right;\">\n",
       "      <th></th>\n",
       "      <th>A</th>\n",
       "      <th>B</th>\n",
       "      <th>result</th>\n",
       "    </tr>\n",
       "  </thead>\n",
       "  <tbody>\n",
       "    <tr>\n",
       "      <th>0</th>\n",
       "      <td>232.65</td>\n",
       "      <td>-57.48</td>\n",
       "      <td>175.17</td>\n",
       "    </tr>\n",
       "    <tr>\n",
       "      <th>1</th>\n",
       "      <td>22.69</td>\n",
       "      <td>-5.46</td>\n",
       "      <td>17.23</td>\n",
       "    </tr>\n",
       "    <tr>\n",
       "      <th>2</th>\n",
       "      <td>23.67</td>\n",
       "      <td>-7.71</td>\n",
       "      <td>15.96</td>\n",
       "    </tr>\n",
       "  </tbody>\n",
       "</table>\n",
       "</div>"
      ],
      "text/plain": [
       "        A      B  result\n",
       "0  232.65 -57.48  175.17\n",
       "1   22.69  -5.46   17.23\n",
       "2   23.67  -7.71   15.96"
      ]
     },
     "execution_count": 7,
     "metadata": {},
     "output_type": "execute_result"
    }
   ],
   "source": [
    "import pandas as pd\n",
    "df = pd.read_csv('./loop_through_2_columns.csv')\n",
    "def add_numbers(n1, n2):\n",
    "    answer = n1+n2\n",
    "    return answer\n",
    "df['result'] = df.apply(lambda x: add_numbers(x.A, x.B), axis=1)\n",
    "df.head()"
   ]
  },
  {
   "cell_type": "code",
   "execution_count": 21,
   "id": "4ae4ffdd",
   "metadata": {},
   "outputs": [
    {
     "name": "stdout",
     "output_type": "stream",
     "text": [
      "[[232.65 -57.48]\n",
      " [ 22.69  -5.46]\n",
      " [ 23.67  -7.71]]\n",
      "[[232.65 -57.48]\n",
      " [ 22.69  -5.46]\n",
      " [ -7.71  -7.71]]\n"
     ]
    }
   ],
   "source": [
    "import pandas as pd\n",
    "df = pd.read_csv('./loop_through_2_columns.csv')\n",
    "print(df.values)\n",
    "df.iloc[2, [0]] = df.iloc[2, [1]]\n",
    "print(df.values)"
   ]
  },
  {
   "cell_type": "code",
   "execution_count": 1,
   "id": "ea174442",
   "metadata": {},
   "outputs": [
    {
     "data": {
      "text/html": [
       "<div>\n",
       "<style scoped>\n",
       "    .dataframe tbody tr th:only-of-type {\n",
       "        vertical-align: middle;\n",
       "    }\n",
       "\n",
       "    .dataframe tbody tr th {\n",
       "        vertical-align: top;\n",
       "    }\n",
       "\n",
       "    .dataframe thead th {\n",
       "        text-align: right;\n",
       "    }\n",
       "</style>\n",
       "<table border=\"1\" class=\"dataframe\">\n",
       "  <thead>\n",
       "    <tr style=\"text-align: right;\">\n",
       "      <th></th>\n",
       "      <th>A</th>\n",
       "      <th>B</th>\n",
       "      <th>Date</th>\n",
       "    </tr>\n",
       "  </thead>\n",
       "  <tbody>\n",
       "    <tr>\n",
       "      <th>0</th>\n",
       "      <td>232.65</td>\n",
       "      <td>-57.48</td>\n",
       "      <td>2011-06-22 00:30:00</td>\n",
       "    </tr>\n",
       "    <tr>\n",
       "      <th>1</th>\n",
       "      <td>22.69</td>\n",
       "      <td>-5.46</td>\n",
       "      <td>2011-06-22 01:00:00</td>\n",
       "    </tr>\n",
       "    <tr>\n",
       "      <th>2</th>\n",
       "      <td>23.67</td>\n",
       "      <td>-7.71</td>\n",
       "      <td>2011-06-22 01:30:00</td>\n",
       "    </tr>\n",
       "  </tbody>\n",
       "</table>\n",
       "</div>"
      ],
      "text/plain": [
       "        A      B                Date\n",
       "0  232.65 -57.48 2011-06-22 00:30:00\n",
       "1   22.69  -5.46 2011-06-22 01:00:00\n",
       "2   23.67  -7.71 2011-06-22 01:30:00"
      ]
     },
     "execution_count": 1,
     "metadata": {},
     "output_type": "execute_result"
    }
   ],
   "source": [
    "import pandas as pd\n",
    "import datetime\n",
    "df = pd.read_csv('./loop_through_2_columns.csv')\n",
    "\n",
    "df_1 = pd.DataFrame(data={\n",
    "    'Index': list(range(2, 7)),\n",
    "    'Date': [datetime.datetime(year=2011, month=6, day=22) + datetime.timedelta(minutes=i * 30) for i in range(1, 6)]\n",
    "})\n",
    "\n",
    "df['Date'] = df_1['Date']\n",
    "df.head()"
   ]
  },
  {
   "cell_type": "code",
   "execution_count": 16,
   "id": "94c29f3d",
   "metadata": {},
   "outputs": [
    {
     "data": {
      "text/html": [
       "<div>\n",
       "<style scoped>\n",
       "    .dataframe tbody tr th:only-of-type {\n",
       "        vertical-align: middle;\n",
       "    }\n",
       "\n",
       "    .dataframe tbody tr th {\n",
       "        vertical-align: top;\n",
       "    }\n",
       "\n",
       "    .dataframe thead th {\n",
       "        text-align: right;\n",
       "    }\n",
       "</style>\n",
       "<table border=\"1\" class=\"dataframe\">\n",
       "  <thead>\n",
       "    <tr style=\"text-align: right;\">\n",
       "      <th></th>\n",
       "      <th>Name</th>\n",
       "      <th>Gender</th>\n",
       "      <th>Remarks</th>\n",
       "      <th>Docs</th>\n",
       "    </tr>\n",
       "  </thead>\n",
       "  <tbody>\n",
       "    <tr>\n",
       "      <th>0</th>\n",
       "      <td>Ali</td>\n",
       "      <td>Male</td>\n",
       "      <td>You are naughty</td>\n",
       "      <td>This is one document</td>\n",
       "    </tr>\n",
       "    <tr>\n",
       "      <th>1</th>\n",
       "      <td>Eraj</td>\n",
       "      <td>Female</td>\n",
       "      <td>HAHA superb I GOT GOLD MEDAL</td>\n",
       "      <td>This is second document</td>\n",
       "    </tr>\n",
       "    <tr>\n",
       "      <th>2</th>\n",
       "      <td>Yasir</td>\n",
       "      <td>Male</td>\n",
       "      <td>Yasir is dirty boy</td>\n",
       "      <td>This is a nice document</td>\n",
       "    </tr>\n",
       "    <tr>\n",
       "      <th>3</th>\n",
       "      <td>Maryam</td>\n",
       "      <td>Female</td>\n",
       "      <td>Maryam is a good UI/UX Designer</td>\n",
       "      <td>This is a beautiful document and have great ex...</td>\n",
       "    </tr>\n",
       "  </tbody>\n",
       "</table>\n",
       "</div>"
      ],
      "text/plain": [
       "     Name  Gender                          Remarks  \\\n",
       "0     Ali    Male                  You are naughty   \n",
       "1    Eraj  Female     HAHA superb I GOT GOLD MEDAL   \n",
       "2   Yasir    Male               Yasir is dirty boy   \n",
       "3  Maryam  Female  Maryam is a good UI/UX Designer   \n",
       "\n",
       "                                                Docs  \n",
       "0                               This is one document  \n",
       "1                            This is second document  \n",
       "2                            This is a nice document  \n",
       "3  This is a beautiful document and have great ex...  "
      ]
     },
     "execution_count": 16,
     "metadata": {},
     "output_type": "execute_result"
    }
   ],
   "source": [
    "# libraries import\n",
    "import boto3\n",
    "import pandas as pd\n",
    "\n",
    "# configure aws on command line\n",
    "# aws configure\n",
    "# enter your access key, access secret and region in which you create your bucket\n",
    "# You get your access key and access password from security credentials under the iam\n",
    "# if its disabled delete the previous one and then create the new one\n",
    "\n",
    "s3_obj = boto3.client(\"s3\") # object for accessing s3\n",
    "\n",
    "# Downloading file code\n",
    "s3_obj.download_file(\n",
    "    Filename=\"./local_file_name_which_you_download_from_s3.csv\",\n",
    "    Bucket=\"your_bucket_name\",\n",
    "    Key=\"file_in_s3_bucket.csv\"\n",
    "# )\n",
    "df = pd.read_csv('./local_file_name_which_you_download_from_s3.csv')\n",
    "df.head()\n",
    "\n",
    "# Uploading file code\n",
    "s3_obj.upload_file(\n",
    "    Filename=\"./local_file_name_which_you_download_from_s3.csv\",\n",
    "    Bucket=\"your_bucket_name\",\n",
    "    Key=\"file_in_s3_bucket.csv\"\n",
    ")\n",
    "\n",
    "s3_obj_file = s3_obj.get_object(Bucket='bucket_name', Key='file_in_s3_bucket')['Body'].read()\n",
    "df_upload = pd.read_excel(s3_obj_file)\n",
    "df_upload.head()"
   ]
  },
  {
   "cell_type": "code",
   "execution_count": 18,
   "id": "817a6e8c",
   "metadata": {},
   "outputs": [
    {
     "name": "stdout",
     "output_type": "stream",
     "text": [
      "Name Gender Remarks Docs\n",
      "Ali Male You are naughty This is one document\n",
      "Eraj Female HAHA superb I GOT GOLD MEDAL This is second document\n",
      "Yasir Male Yasir is dirty boy This is a nice document\n",
      "Maryam Female Maryam is a good UI/UX Designer This is a beautiful document and have great experience\n"
     ]
    }
   ],
   "source": [
    "# pip install pandas (if not installed)\n",
    "# solution 1\n",
    "import pandas as pd\n",
    "df = pd.read_excel('./TfidfVectorizer_sklearn.xlsx')\n",
    "df\n",
    "\n",
    "# solution 2\n",
    "import openpyxl\n",
    "\n",
    "book = openpyxl.load_workbook('./TfidfVectorizer_sklearn.xlsx')\n",
    "\n",
    "sheet = book.active\n",
    "cells = sheet['A1': 'D5']\n",
    "\n",
    "for c1, c2, c3, c4 in cells:\n",
    "    print(f\"{c1.value} {c2.value} {c3.value} {c4.value}\")"
   ]
  },
  {
   "cell_type": "code",
   "execution_count": 21,
   "id": "7ca21bfb",
   "metadata": {},
   "outputs": [],
   "source": [
    "from selenium import webdriver\n",
    "from selenium.webdriver.chrome.service import Service\n",
    "from webdriver_manager.chrome import ChromeDriverManager\n",
    "# C:\\Program Files\\Google\\Chrome\\Application\n",
    "# \n",
    "options = webdriver.ChromeOptions()\n",
    "options.binary_location = \"C:\\\\Program Files\\\\Google\\\\Chrome\\\\Application\\\\Chrome.exe\"\n",
    "driver = webdriver.Chrome(service = Service(ChromeDriverManager().install()), options = options)"
   ]
  },
  {
   "cell_type": "code",
   "execution_count": 66,
   "id": "b077fd90",
   "metadata": {},
   "outputs": [],
   "source": [
    "import pandas as pd\n",
    "import json\n",
    "df = pd.read_excel('./TfidfVectorizer_sklearn.xlsx')\n",
    "df.to_json('new_file1.json', orient='records')\n",
    "with open('./new_file1.json', 'r') as json_file:\n",
    "    a = {}\n",
    "    data = json.load(json_file)\n",
    "    a['details'] = data\n",
    "with open(\"./new_file1.json\", \"w\") as jsonFile:\n",
    "    json.dump(a, jsonFile)"
   ]
  },
  {
   "cell_type": "code",
   "execution_count": 37,
   "id": "102ee141",
   "metadata": {},
   "outputs": [
    {
     "name": "stdout",
     "output_type": "stream",
     "text": [
      "({'x': [[7]], 'y': [[9]]}, 0)\n",
      "({'x': [[4]], 'y': [[3]]}, 0)\n",
      "[({'x': [[9]], 'y': [[4]]}, 0), ({'x': [[1]], 'y': [[8]]}, 0), ({'x': [[6]], 'y': [[8]]}, 0)]\n"
     ]
    }
   ],
   "source": [
    "import random\n",
    "\n",
    "def my_function():\n",
    "    for i in range(3):\n",
    "        yield(dict(x=[[random.randint(0,10)]], y=[[random.randint(0,10)]]), 0)\n",
    "a = my_function()\n",
    "print(next(a)) # one by one\n",
    "print(next(a))\n",
    "print(list(my_function())) # get all values"
   ]
  }
 ],
 "metadata": {
  "kernelspec": {
   "display_name": "Python 3 (ipykernel)",
   "language": "python",
   "name": "python3"
  },
  "language_info": {
   "codemirror_mode": {
    "name": "ipython",
    "version": 3
   },
   "file_extension": ".py",
   "mimetype": "text/x-python",
   "name": "python",
   "nbconvert_exporter": "python",
   "pygments_lexer": "ipython3",
   "version": "3.7.9"
  }
 },
 "nbformat": 4,
 "nbformat_minor": 5
}
