{
 "cells": [
  {
   "cell_type": "code",
   "execution_count": 26,
   "id": "1e3c64db",
   "metadata": {},
   "outputs": [
    {
     "name": "stdout",
     "output_type": "stream",
     "text": [
      "['Ali' 'Eraj' 'Yasir' 'Maryam']\n",
      "['ali' 'eraj' 'maryam' 'yasir']\n",
      "(4, 4)\n",
      "['Male' 'Female' 'Male' 'Female']\n",
      "['female' 'male']\n",
      "(4, 2)\n",
      "['You are naughty' 'HAHA superb I GOT GOLD MEDAL' 'Yasir is dirty boy'\n",
      " 'Maryam is a good UI/UX Designer']\n",
      "['are' 'boy' 'designer' 'dirty' 'gold' 'good' 'got' 'haha' 'is' 'maryam'\n",
      " 'medal' 'naughty' 'superb' 'ui' 'ux' 'yasir' 'you']\n",
      "(4, 17)\n",
      "['This is one document' 'This is second document'\n",
      " 'This is a nice document'\n",
      " 'This is a beautiful document and have great experience']\n",
      "['and' 'beautiful' 'document' 'experience' 'great' 'have' 'is' 'nice'\n",
      " 'one' 'second' 'this']\n",
      "(4, 11)\n"
     ]
    }
   ],
   "source": [
    "from sklearn.feature_extraction.text import TfidfVectorizer\n",
    "import pandas as pd\n",
    "df = pd.read_excel('./TfidfVectorizer_sklearn.xlsx')\n",
    "for i in df.columns: # loop through every column\n",
    "    tfidf_vectorizer = TfidfVectorizer()\n",
    "    print(df.loc[:, i].values)\n",
    "    X = tfidf_vectorizer.fit_transform(df.loc[:, i].values) # select column all values\n",
    "    print(tfidf_vectorizer.get_feature_names_out())\n",
    "    print(X.shape)"
   ]
  },
  {
   "cell_type": "code",
   "execution_count": 134,
   "id": "38121725",
   "metadata": {},
   "outputs": [],
   "source": [
    "import pandas as pd\n",
    "import re\n",
    "\n",
    "df = pd.read_excel('./one_col_into_multi_cols.xlsx')\n",
    "df['data_col1'] = df['data'].apply(\n",
    "    lambda x: '(' + re.findall('(.*)\\.\\.', x)[0] + ')')\n",
    "df['data_col2'] = df['data'].apply(\n",
    "    lambda x: '(' + re.findall('\\.\\.(.*):', a)[0].split(':')[0] + ')')\n",
    "df['data_col3'] = df['data'].apply(\n",
    "    lambda x: '(' + re.findall('\\.\\w+:(.*)', a)[0] + ')')\n",
    "df.to_excel(\"one_col_into_multi_cols_new.xlsx\",\n",
    "            sheet_name='Sheet_name_1',\n",
    "            index=False)"
   ]
  }
 ],
 "metadata": {
  "kernelspec": {
   "display_name": "Python 3 (ipykernel)",
   "language": "python",
   "name": "python3"
  },
  "language_info": {
   "codemirror_mode": {
    "name": "ipython",
    "version": 3
   },
   "file_extension": ".py",
   "mimetype": "text/x-python",
   "name": "python",
   "nbconvert_exporter": "python",
   "pygments_lexer": "ipython3",
   "version": "3.7.9"
  }
 },
 "nbformat": 4,
 "nbformat_minor": 5
}
