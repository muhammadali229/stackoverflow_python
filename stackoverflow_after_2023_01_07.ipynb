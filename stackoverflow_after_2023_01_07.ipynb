{
 "cells": [
  {
   "cell_type": "code",
   "execution_count": 2,
   "id": "1e3c64db",
   "metadata": {},
   "outputs": [
    {
     "name": "stdout",
     "output_type": "stream",
     "text": [
      "['Ali' 'Eraj' 'Yasir' 'Maryam']\n",
      "['ali' 'eraj' 'maryam' 'yasir']\n",
      "(4, 4)\n",
      "['Male' 'Female' 'Male' 'Female']\n",
      "['female' 'male']\n",
      "(4, 2)\n",
      "['You are naughty' 'HAHA superb I GOT GOLD MEDAL' 'Yasir is dirty boy'\n",
      " 'Maryam is a good UI/UX Designer']\n",
      "['are' 'boy' 'designer' 'dirty' 'gold' 'good' 'got' 'haha' 'is' 'maryam'\n",
      " 'medal' 'naughty' 'superb' 'ui' 'ux' 'yasir' 'you']\n",
      "(4, 17)\n",
      "['This is one document' 'This is second document'\n",
      " 'This is a nice document'\n",
      " 'This is a beautiful document and have great experience']\n",
      "['and' 'beautiful' 'document' 'experience' 'great' 'have' 'is' 'nice'\n",
      " 'one' 'second' 'this']\n",
      "(4, 11)\n"
     ]
    }
   ],
   "source": [
    "from sklearn.feature_extraction.text import TfidfVectorizer\n",
    "import pandas as pd\n",
    "df = pd.read_excel('./TfidfVectorizer_sklearn.xlsx')\n",
    "for i in df.columns: # loop through every column\n",
    "    tfidf_vectorizer = TfidfVectorizer()\n",
    "    print(df.loc[:, i].values)\n",
    "    X = tfidf_vectorizer.fit_transform(df.loc[:, i].values) # select column all values\n",
    "    print(tfidf_vectorizer.get_feature_names_out())\n",
    "    print(X.shape)"
   ]
  },
  {
   "cell_type": "code",
   "execution_count": 3,
   "id": "38121725",
   "metadata": {},
   "outputs": [],
   "source": [
    "import pandas as pd\n",
    "import re\n",
    "\n",
    "df = pd.read_excel('./one_col_into_multi_cols.xlsx')\n",
    "df['data_col1'] = df['data'].apply(\n",
    "    lambda x: '(' + re.findall('(.*)\\.\\.', x)[0] + ')')\n",
    "df['data_col2'] = df['data'].apply(\n",
    "    lambda x: '(' + re.findall('\\.\\.(.*):', x)[0].split(':')[0] + ')')\n",
    "df['data_col3'] = df['data'].apply(\n",
    "    lambda x: '(' + re.findall('\\.\\w+:(.*)', x)[0] + ')')\n",
    "df.to_excel(\"one_col_into_multi_cols_new.xlsx\",\n",
    "            sheet_name='Sheet_name_1',\n",
    "            index=False)"
   ]
  },
  {
   "cell_type": "code",
   "execution_count": 29,
   "id": "1f4b5dd7",
   "metadata": {},
   "outputs": [
    {
     "name": "stdout",
     "output_type": "stream",
     "text": [
      "\"tag\":\"房地产;住宅\" not found in the file\n",
      "\"tag\":\"教育培训;幼儿园\" found in the file\n",
      "\"tag\":\"房地产;内部楼栋\" found in the file\n",
      "\"tag\":\"交通设施;停车场\" found in the file\n",
      "\"tag\":\"购物;购物中心\" found in the file\n"
     ]
    }
   ],
   "source": [
    "import re\n",
    "extract_str = [\n",
    "    '\"tag\":\"房地产;住宅\"', '\"tag\":\"教育培训;幼儿园\"', '\"tag\":\"房地产;内部楼栋\"',\n",
    "    '\"tag\":\"交通设施;停车场\"', '\"tag\":\"购物;购物中心\"'\n",
    "]\n",
    "with open('./extract_specific_from_text.txt', 'r', encoding=\"utf8\") as f:\n",
    "    file_txt = f.read()\n",
    "    for i in extract_str:\n",
    "        tags = re.findall(i, file_txt)\n",
    "        if len(tags) > 0:\n",
    "            print(f'{list(set(tags))[0]} found in the file')\n",
    "        else:\n",
    "            print(f'{i} not found in the file')"
   ]
  },
  {
   "cell_type": "code",
   "execution_count": 47,
   "id": "2944c555",
   "metadata": {},
   "outputs": [
    {
     "name": "stdout",
     "output_type": "stream",
     "text": [
      "h1: Who is Gautam Adani and why is he controversial?\n",
      "em: The Indian entrepreneur has seen his wealth plummet after a research firm accused him of ‘brazen stock manipulation’.\n",
      "p1: Allegations of stock market manipulation and fraud have halved the net worth of Indian tycoon Gautam Adani, one of the wealthiest people in the world, in less than two weeks and wiped more than $110bn from his listed firms in India.\n",
      "p2: With investor confidence shaken, legislators have demanded an investigation into his businesses. Here’s a look at who Adani is, what concerns have been raised and what has happened since.\n",
      "p3: Who is Gautam Adani?\n",
      "p4: He is the founder and chairman of the Adani Group, one of the largest business conglomerates in India. A native of Gujarat — the same state where India’s Prime Minister Narendra Modi is from — Adani, 60, is a college dropout. He walked away from his father’s textile shop to set up a commodities trading business in 1988, his entry into the world of business.\n"
     ]
    }
   ],
   "source": [
    "from webdriver_manager.chrome import ChromeDriverManager\n",
    "from selenium import webdriver\n",
    "from selenium.webdriver.chrome.service import Service as ChromeService\n",
    "from selenium.webdriver.chrome.options import Options\n",
    "from selenium.webdriver.common.by import By\n",
    "options = Options()\n",
    "# options.add_argument('--disable-blink-features=AutomationControlled')\n",
    "service = ChromeService(executable_path=ChromeDriverManager().install())\n",
    "options.add_experimental_option('excludeSwitches', ['enable-logging']) # KINDLY ADD THIS OPTION\n",
    "driver = webdriver.Chrome(service=service, options=options)\n",
    "URL = ' https://www.aljazeera.com/economy/2023/2/6/who-is-gautam-adani-and-why-is-he-controversial'\n",
    "driver.get(URL)\n",
    "# Define your code here\n",
    "# //header[@class=\"article-header\"]/h1\n",
    "# //header[@class=\"article-header\"]//em\n",
    "# //main[@id=\"main-content-area\"]/div[2]/p[1]\n",
    "# //main[@id=\"main-content-area\"]/div[2]/p[2]\n",
    "# //main[@id=\"main-content-area\"]/div[2]/p[3]\n",
    "# //main[@id=\"main-content-area\"]/div[2]/p[4]\n",
    "h1_tag = driver.find_elements(By.XPATH, '//header[@class=\"article-header\"]/h1')[0]\n",
    "print(f'h1: {h1_tag.text}')\n",
    "em_tag = driver.find_elements(By.XPATH, '//header[@class=\"article-header\"]//em')[0]\n",
    "print(f'em: {em_tag.text}')\n",
    "for i in range(1, 5):\n",
    "    p_tag = driver.find_elements(By.XPATH, f'//main[@id=\"main-content-area\"]/div[2]/p[{i}]')[0]\n",
    "    print(f'p{i}: {p_tag.text}')\n",
    "driver.quit()"
   ]
  },
  {
   "cell_type": "code",
   "execution_count": null,
   "id": "2354a041",
   "metadata": {},
   "outputs": [],
   "source": []
  },
  {
   "cell_type": "code",
   "execution_count": null,
   "id": "9f5af61d",
   "metadata": {},
   "outputs": [],
   "source": []
  }
 ],
 "metadata": {
  "kernelspec": {
   "display_name": "Python 3 (ipykernel)",
   "language": "python",
   "name": "python3"
  },
  "language_info": {
   "codemirror_mode": {
    "name": "ipython",
    "version": 3
   },
   "file_extension": ".py",
   "mimetype": "text/x-python",
   "name": "python",
   "nbconvert_exporter": "python",
   "pygments_lexer": "ipython3",
   "version": "3.7.9"
  }
 },
 "nbformat": 4,
 "nbformat_minor": 5
}
